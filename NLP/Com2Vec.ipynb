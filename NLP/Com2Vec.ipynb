{
 "cells": [
  {
   "cell_type": "code",
   "execution_count": null,
   "metadata": {},
   "outputs": [],
   "source": [
    "import csv\n",
    "import re\n",
    "\n",
    "input_file = \"../RAW_DATA/838_all_comment.csv\"\n",
    "output_file = \"cleaned_comments_cleaned.csv\"\n",
    "\n",
    "def clean_text(text):\n",
    "    if isinstance(text, str):\n",
    "        text = text.replace(',', ' ')  # **確保 `,` 不影響 CSV 解析**\n",
    "        text = text.replace('\\n', ' ')  # **移除換行符**\n",
    "        text = re.sub(r'\\s+', ' ', text).strip()  # **去除多餘空格**\n",
    "    return text\n",
    "\n",
    "with open(input_file, \"r\", encoding=\"utf-8\") as fin, open(output_file, \"w\", encoding=\"utf-8\", newline='') as fout:\n",
    "    reader = csv.reader(fin, quotechar='\"', delimiter=',')\n",
    "    writer = csv.writer(fout, quoting=csv.QUOTE_MINIMAL)  # **確保 CSV 格式正確**\n",
    "\n",
    "    header = next(reader)  # 讀取標題列\n",
    "    writer.writerow(header)\n",
    "\n",
    "    for row in reader:\n",
    "        if len(row) >= 8:  # **確保 `comments` 欄位存在**\n",
    "            row[7] = clean_text(row[7])  # **只清理 `comments` 欄位**\n",
    "        writer.writerow(row)\n",
    "\n",
    "print(\"`comments` 清理完成\")\n"
   ]
  },
  {
   "cell_type": "code",
   "execution_count": 2,
   "metadata": {},
   "outputs": [
    {
     "name": "stdout",
     "output_type": "stream",
     "text": [
      "                             location_ID  \\\n",
      "0  0x346885034084ae89:0x59a8b1eac5731c29   \n",
      "1  0x346885034084ae89:0x59a8b1eac5731c29   \n",
      "2  0x346885034084ae89:0x59a8b1eac5731c29   \n",
      "3  0x346885034084ae89:0x59a8b1eac5731c29   \n",
      "4  0x346885034084ae89:0x59a8b1eac5731c29   \n",
      "\n",
      "                              review_id  \\\n",
      "0   ChZDSUhNMG9nS0VJQ0FnTURBM3RueUd3EAE   \n",
      "1   ChZDSUhNMG9nS0VJQ0FnSURQbDdIOWZREAE   \n",
      "2   ChZDSUhNMG9nS0VJQ0FnSURINzR1MUN3EAE   \n",
      "3  ChdDSUhNMG9nS0VJQ0FnSURIdV9pYnFBRRAB   \n",
      "4   ChZDSUhNMG9nS0VJQ0FnSURIanJHb2ZnEAE   \n",
      "\n",
      "                                            comments language  \n",
      "0                                  在0403的地震就崩壞了，過不去了  zh-Hant  \n",
      "1  給一日遊，請先做功課喔， 113/12/5天氣晴，查網路：蘇花，中橫順暢， 想著沿途，中橫施...  zh-Hant  \n",
      "2  太魯閣水簾洞：大自然鬼斧神工的傑作 太魯閣，這片鬼斧神工的峽谷，處處是令人驚嘆的自然景觀。其...  zh-Hant  \n",
      "3                              2022/9 第一次走時 眼前景是真的震撼  zh-Hant  \n",
      "4  2024/3/22 太魯閣最喜歡的步道，本身很喜歡瀑布跟險峻的山，這裡剛好綜合了我的喜好。 ...  zh-Hant  \n",
      "有效評論數量: 2759814\n"
     ]
    }
   ],
   "source": [
    "import pandas as pd\n",
    "\n",
    "# 讀取 CSV（請確保檔案名稱正確）\n",
    "csv_file = \"cleaned_comments_cleaned.csv\"\n",
    "\n",
    "# 讀取 CSV，僅保留必要欄位\n",
    "df = pd.read_csv(csv_file, usecols=['review_id', 'location_ID', 'comments', 'language'])\n",
    "\n",
    "# 移除空評論\n",
    "df = df.dropna(subset=['comments', 'language'])\n",
    "\n",
    "# 顯示前 5 筆，確認資料格式\n",
    "print(df.head())\n",
    "\n",
    "# 儲存過濾後的 CSV（如果未來需要重新使用）\n",
    "df.to_csv(\"cleaned_comments.csv\", index=False)\n",
    "print(f\"有效評論數量: {len(df)}\")\n"
   ]
  },
  {
   "cell_type": "code",
   "execution_count": 4,
   "metadata": {},
   "outputs": [
    {
     "name": "stdout",
     "output_type": "stream",
     "text": [
      "已向量化 2759814 條評論\n"
     ]
    }
   ],
   "source": [
    "from sentence_transformers import SentenceTransformer\n",
    "import numpy as np\n",
    "\n",
    "# 載入 Sentence Transformers 模型\n",
    "model = SentenceTransformer('sentence-transformers/paraphrase-multilingual-mpnet-base-v2', device='cuda')\n",
    "\n",
    "# 轉換為向量（批次處理）\n",
    "batch_size = 512\n",
    "comment_vectors = []\n",
    "review_ids = []\n",
    "\n",
    "for i in range(0, len(df), batch_size):\n",
    "    batch_comments = df['comments'][i:i+batch_size].tolist()\n",
    "    batch_vectors = model.encode(batch_comments, convert_to_numpy=True)\n",
    "    \n",
    "    comment_vectors.append(batch_vectors)\n",
    "    review_ids.extend(df['review_id'][i:i+batch_size].tolist())\n",
    "\n",
    "# 合併所有向量\n",
    "comment_vectors = np.vstack(comment_vectors).astype('float32')\n",
    "\n",
    "# 儲存向量（方便未來使用）\n",
    "np.save(\"comment_vectors.npy\", comment_vectors)\n",
    "np.save(\"review_ids.npy\", review_ids)\n",
    "\n",
    "print(f\"已向量化 {len(comment_vectors)} 條評論\")"
   ]
  },
  {
   "cell_type": "markdown",
   "metadata": {},
   "source": [
    "#### 請先至conda prompt 安裝 FAISS GPU版本\n",
    "`conda install conda-forge::faiss-gpu`"
   ]
  },
  {
   "cell_type": "code",
   "execution_count": null,
   "metadata": {},
   "outputs": [],
   "source": [
    "# 如kernel關閉或重啟，需要先load向量儲存檔\n",
    "\n",
    "import numpy as np\n",
    "\n",
    "# 讀取先前儲存的向量與 review_id\n",
    "comment_vectors = np.load(\"comment_vectors.npy\")\n",
    "review_ids = np.load(\"review_ids.npy\")"
   ]
  },
  {
   "cell_type": "code",
   "execution_count": 4,
   "metadata": {},
   "outputs": [
    {
     "name": "stdout",
     "output_type": "stream",
     "text": [
      "FAISS IVFFlat 索引已建立，儲存完成！\n"
     ]
    }
   ],
   "source": [
    "import faiss\n",
    "\n",
    "# 向量維度\n",
    "d = comment_vectors.shape[1]\n",
    "\n",
    "# 設定 1024 個 cluster\n",
    "num_clusters = 1024\n",
    "quantizer = faiss.IndexFlatL2(d)\n",
    "index = faiss.IndexIVFFlat(quantizer, d, num_clusters, faiss.METRIC_L2)\n",
    "\n",
    "# 訓練 FAISS（僅需執行一次）\n",
    "index.train(comment_vectors)\n",
    "index.add(comment_vectors)\n",
    "\n",
    "# 儲存 FAISS 索引\n",
    "faiss.write_index(index, \"faiss_index_ivf.bin\")\n",
    "\n",
    "print(f\"FAISS IVFFlat 索引已建立，儲存完成！\")"
   ]
  },
  {
   "cell_type": "markdown",
   "metadata": {},
   "source": [
    "#### 為確保最佳群數，採用Elbow Method\n",
    "- 先從向量中採樣，每個地點10%的評論、上限300\n",
    "- 確保冷門景點也可以被採樣到"
   ]
  },
  {
   "cell_type": "code",
   "execution_count": null,
   "metadata": {},
   "outputs": [],
   "source": [
    "import numpy as np\n",
    "import pandas as pd\n",
    "from sklearn.utils import shuffle\n",
    "\n",
    "# 讀取評論向量\n",
    "comment_vectors = np.load(\"comment_vectors.npy\")\n",
    "df = pd.read_csv(\"cleaned_comments.csv\")  \n",
    "\n",
    "# 確保 location_ID 是字串格式\n",
    "df['location_ID'] = df['location_ID'].astype(str)\n",
    "\n",
    "# 讓評論對應到向量\n",
    "df['vector'] = list(comment_vectors)\n",
    "\n",
    "# 設定公平採樣策略\n",
    "sampled_vectors = []\n",
    "sampled_review_ids = []\n",
    "sampled_location_ids = []\n",
    "\n",
    "for location_id, group in df.groupby(\"location_ID\"):\n",
    "    sample_size = min(len(group) // 10, 300)  # 取 10% 或最多 300 筆\n",
    "    sampled_data = group.sample(n=sample_size, random_state=42)\n",
    "    \n",
    "    sampled_vectors.extend(sampled_data['vector'].tolist())\n",
    "    sampled_review_ids.extend(sampled_data['review_id'].tolist())\n",
    "    sampled_location_ids.extend([location_id] * sample_size)\n",
    "\n",
    "sampled_vectors = np.array(sampled_vectors)\n",
    "\n",
    "# 儲存公平採樣後的向量與對應的評論 ID\n",
    "np.save(\"sampled_vectors.npy\", sampled_vectors)\n",
    "np.save(\"sampled_review_ids.npy\", sampled_review_ids)\n",
    "np.save(\"sampled_location_ids.npy\", sampled_location_ids)\n",
    "\n",
    "print(f\"公平採樣完成，共選取 {len(sampled_vectors)} 筆評論進行分群\")\n"
   ]
  },
  {
   "cell_type": "code",
   "execution_count": 3,
   "metadata": {},
   "outputs": [
    {
     "name": "stdout",
     "output_type": "stream",
     "text": [
      "使用 MiniBatchKMeans 測試 K = 2 ~ 20，採樣 129141 筆評論向量\n"
     ]
    },
    {
     "data": {
      "image/png": "[encoded data removed]",
      "text/plain": [
       "<Figure size 800x500 with 1 Axes>"
      ]
     },
     "metadata": {},
     "output_type": "display_data"
    },
    {
     "name": "stdout",
     "output_type": "stream",
     "text": [
      "Elbow Method 完成！請觀察圖表中的「拐點」，決定最佳的 K 值\n"
     ]
    }
   ],
   "source": [
    "import matplotlib.pyplot as plt\n",
    "from sklearn.cluster import MiniBatchKMeans\n",
    "\n",
    "# 讀取公平採樣的向量\n",
    "sampled_vectors = np.load(\"sampled_vectors.npy\")\n",
    "\n",
    "# 設定 K 值範圍\n",
    "K_range = range(2, 20)\n",
    "distortions = []\n",
    "\n",
    "print(f\"使用 MiniBatchKMeans 測試 K = 2 ~ 20，採樣 {len(sampled_vectors)} 筆評論向量\")\n",
    "\n",
    "for k in K_range:\n",
    "    kmeans = MiniBatchKMeans(n_clusters=k, batch_size=3072, random_state=42, n_init=10, max_iter=300)\n",
    "    kmeans.fit(sampled_vectors)\n",
    "    distortions.append(kmeans.inertia_)\n",
    "\n",
    "# 繪製 Elbow Method 圖\n",
    "plt.figure(figsize=(8, 5))\n",
    "plt.plot(K_range, distortions, marker='o')\n",
    "plt.xlabel('Number of clusters (K)')\n",
    "plt.ylabel('Distortion (Inertia)')\n",
    "plt.title('Elbow Method for Optimal K (MiniBatchKMeans)')\n",
    "plt.grid(True)\n",
    "plt.show()\n",
    "\n",
    "print(\"Elbow Method 完成！請觀察圖表中的「拐點」，決定最佳的 K 值\")\n"
   ]
  },
  {
   "cell_type": "markdown",
   "metadata": {},
   "source": [
    "#### 開始分群囉"
   ]
  },
  {
   "cell_type": "code",
   "execution_count": 11,
   "metadata": {},
   "outputs": [
    {
     "name": "stdout",
     "output_type": "stream",
     "text": [
      "FAISS K-means 分群完成，已儲存 `clustered_comments.csv`（僅包含 location_ID, review_id, cluster）\n"
     ]
    }
   ],
   "source": [
    "import faiss\n",
    "import numpy as np\n",
    "import pandas as pd\n",
    "\n",
    "# 讀取 FAISS 索引\n",
    "index = faiss.read_index(\"faiss_index_ivf.bin\")\n",
    "d = index.d  # 獲取向量維度\n",
    "\n",
    "# 取得所有評論向量\n",
    "all_vectors = np.zeros((index.ntotal, d), dtype='float32')\n",
    "index.reconstruct_n(0, index.ntotal, all_vectors)\n",
    "\n",
    "# 執行 FAISS K-means 分群\n",
    "num_clusters = 6  # 來自 Elbow Method(一開始跑10)\n",
    "kmeans = faiss.Kmeans(d=d, k=num_clusters, niter=100, verbose=True)\n",
    "kmeans.train(all_vectors)\n",
    "\n",
    "# 取得每條評論的分類標籤\n",
    "_, cluster_labels = kmeans.index.search(all_vectors, 1)  # 確保這裡取得的是 K-means 結果\n",
    "\n",
    "# 讀取原始評論數據\n",
    "df = pd.read_csv(\"cleaned_comments.csv\", usecols=[\"location_ID\", \"review_id\"])  # 只讀取必要欄位\n",
    "\n",
    "# 加入 cluster 分群結果\n",
    "df['cluster'] = cluster_labels.flatten()\n",
    "\n",
    "# **確保不存入完整向量**\n",
    "df.to_csv(\"clustered_comments_6.csv\", index=False, mode=\"w\")\n",
    "\n",
    "print(\"FAISS K-means 分群完成，已儲存 `clustered_comments.csv`（僅包含 location_ID, review_id, cluster）\")\n"
   ]
  },
  {
   "cell_type": "code",
   "execution_count": 12,
   "metadata": {},
   "outputs": [
    {
     "name": "stdout",
     "output_type": "stream",
     "text": [
      "已計算每個地點的主要分類，請查看 `location_major_category_review_analysis.csv` 進行人工審核！\n"
     ]
    }
   ],
   "source": [
    "import pandas as pd\n",
    "import numpy as np\n",
    "\n",
    "# 讀取完整評論的分群結果\n",
    "df = pd.read_csv(\"clustered_comments_6.csv\")  # 這是 K-means 分群的結果\n",
    "df['location_ID'] = df['location_ID'].astype(str)  # 確保 `location_ID` 是字串\n",
    "\n",
    "# 計算每個地點的主要分類 & 總評論數\n",
    "df_major_category = df.groupby(['location_ID'])['cluster'].agg([\n",
    "    ('主分類', lambda x: x.value_counts().idxmax()),  # 取得最多評論的分類\n",
    "    ('該分類比例', lambda x: x.value_counts().max() / len(x)),  # 取得該分類的佔比\n",
    "    ('總評論數', 'count')  # 該地點的總評論數\n",
    "]).reset_index()\n",
    "\n",
    "# 讀取地點資訊 JSON\n",
    "df_info = pd.read_json(\"../RAW_DATA/838_location_info.json\")\n",
    "df_info['location_id'] = df_info['location_id'].astype(str)\n",
    "\n",
    "# **修正 `gmp_location` 錯誤的欄位名稱**\n",
    "df_info = df_info.rename(columns={\"gmp_location\": \"gmap_location\"})\n",
    "\n",
    "# **確保 `location_ID` 和 `location_id` 一致**\n",
    "df_major_category = df_major_category.merge(df_info[['location_id', 'gmap_location']], \n",
    "                                            left_on='location_ID', right_on='location_id', how='left')\n",
    "\n",
    "# 刪除 `location_id`（避免重複欄位）\n",
    "df_major_category.drop(columns=['location_id'], inplace=True)\n",
    "\n",
    "# **標記「低樣本數」的地點**\n",
    "df_major_category['分類品質'] = df_major_category['總評論數'].apply(lambda x: \"低樣本數\" if x < 10 else \"OK\")\n",
    "\n",
    "# 儲存結果（這是新的地點分類結果）\n",
    "df_major_category.to_csv(\"location_major_category_review_analysis_6.csv\", index=False)\n",
    "\n",
    "print(\"已計算每個地點的主要分類，請查看 `location_major_category_review_analysis.csv` 進行人工審核！\")\n"
   ]
  },
  {
   "cell_type": "markdown",
   "metadata": {},
   "source": [
    "#### 產生了 `k = 6` 以及 `k = 10` 兩種分群\n",
    "- 6群效果不理想  \n",
    "- 10群效果尚可，但仍有部分地點很難與群組做連結，例如眾多寺廟、教堂，與台北小巨蛋\n",
    "\n",
    "#### 決定進行以下作業\n",
    "- 篩選評論長度小於 `10` 的評論\n",
    "- 只保留主要語言 `[\"zh-Hant\", \"zh\", \"en\", \"ja\", \"ko\", \"th\", \"vi\", \"id\", \"fr\", \"de\", \"it\", \"es\"]`\n",
    "- 如上述效果仍有改進空間，就把 `summary_1、summary_2` 以權重 `0.2` 的方式加入一起判斷，避免過多人為因素影響分群"
   ]
  },
  {
   "cell_type": "code",
   "execution_count": null,
   "metadata": {},
   "outputs": [
    {
     "name": "stdout",
     "output_type": "stream",
     "text": [
      "過濾完成，保留 1844295 則評論，移除 915519 則評論\n"
     ]
    }
   ],
   "source": [
    "import pandas as pd\n",
    "\n",
    "# 讀取原始評論數據\n",
    "df = pd.read_csv(\"cleaned_comments.csv\")\n",
    "\n",
    "# 目標語言清單\n",
    "target_languages = [\"zh-Hant\",\"en\", \"ja\", \"ko\", \"th\", \"vi\", \"id\"]\n",
    "\n",
    "# 過濾非目標語言的評論\n",
    "df_filtered = df[df[\"language\"].isin(target_languages)]\n",
    "\n",
    "# 移除過短的評論（少於 10 個字）\n",
    "df_filtered = df_filtered[df_filtered[\"comments\"].str.len() >= 10]\n",
    "\n",
    "# 儲存過濾後的數據\n",
    "df_filtered.to_csv(\"cleaned_comments_new.csv\", index=False)\n",
    "\n",
    "print(f\"過濾完成，保留 {len(df_filtered)} 則評論，移除 {len(df) - len(df_filtered)} 則評論\")\n"
   ]
  },
  {
   "cell_type": "code",
   "execution_count": 17,
   "metadata": {},
   "outputs": [
    {
     "name": "stdout",
     "output_type": "stream",
     "text": [
      "                             location_ID  \\\n",
      "0  0x346885034084ae89:0x59a8b1eac5731c29   \n",
      "1  0x346885034084ae89:0x59a8b1eac5731c29   \n",
      "2  0x346885034084ae89:0x59a8b1eac5731c29   \n",
      "3  0x346885034084ae89:0x59a8b1eac5731c29   \n",
      "4  0x346885034084ae89:0x59a8b1eac5731c29   \n",
      "\n",
      "                              review_id  \\\n",
      "0   ChZDSUhNMG9nS0VJQ0FnTURBM3RueUd3EAE   \n",
      "1   ChZDSUhNMG9nS0VJQ0FnSURQbDdIOWZREAE   \n",
      "2   ChZDSUhNMG9nS0VJQ0FnSURINzR1MUN3EAE   \n",
      "3  ChdDSUhNMG9nS0VJQ0FnSURIdV9pYnFBRRAB   \n",
      "4   ChZDSUhNMG9nS0VJQ0FnSURIanJHb2ZnEAE   \n",
      "\n",
      "                                            comments language  \n",
      "0                                  在0403的地震就崩壞了，過不去了  zh-Hant  \n",
      "1  給一日遊，請先做功課喔， 113/12/5天氣晴，查網路：蘇花，中橫順暢， 想著沿途，中橫施...  zh-Hant  \n",
      "2  太魯閣水簾洞：大自然鬼斧神工的傑作 太魯閣，這片鬼斧神工的峽谷，處處是令人驚嘆的自然景觀。其...  zh-Hant  \n",
      "3                              2022/9 第一次走時 眼前景是真的震撼  zh-Hant  \n",
      "4  2024/3/22 太魯閣最喜歡的步道，本身很喜歡瀑布跟險峻的山，這裡剛好綜合了我的喜好。 ...  zh-Hant  \n"
     ]
    }
   ],
   "source": [
    "print(df_filtered.head())"
   ]
  },
  {
   "cell_type": "code",
   "execution_count": 18,
   "metadata": {},
   "outputs": [
    {
     "name": "stderr",
     "output_type": "stream",
     "text": [
      "c:\\ProgramData\\anaconda3\\Lib\\site-packages\\tqdm\\auto.py:21: TqdmWarning: IProgress not found. Please update jupyter and ipywidgets. See https://ipywidgets.readthedocs.io/en/stable/user_install.html\n",
      "  from .autonotebook import tqdm as notebook_tqdm\n"
     ]
    },
    {
     "name": "stdout",
     "output_type": "stream",
     "text": [
      "已向量化 1844295 條評論\n"
     ]
    }
   ],
   "source": [
    "from sentence_transformers import SentenceTransformer\n",
    "import numpy as np\n",
    "\n",
    "# 載入 Sentence Transformers 模型\n",
    "model = SentenceTransformer('sentence-transformers/paraphrase-multilingual-mpnet-base-v2', device='cuda')\n",
    "\n",
    "# 轉換為向量（批次處理）\n",
    "batch_size = 512\n",
    "comment_vectors = []\n",
    "review_ids = []\n",
    "\n",
    "for i in range(0, len(df_filtered), batch_size):\n",
    "    batch_comments = df_filtered['comments'][i:i+batch_size].tolist()\n",
    "    batch_vectors = model.encode(batch_comments, convert_to_numpy=True)\n",
    "    \n",
    "    comment_vectors.append(batch_vectors)\n",
    "    review_ids.extend(df_filtered['review_id'][i:i+batch_size].tolist())\n",
    "\n",
    "# 合併所有向量\n",
    "comment_vectors = np.vstack(comment_vectors).astype('float32')\n",
    "\n",
    "# 儲存向量（方便未來使用）\n",
    "np.save(\"comment_vectors_new.npy\", comment_vectors)\n",
    "np.save(\"review_ids_new.npy\", review_ids)\n",
    "\n",
    "print(f\"已向量化 {len(comment_vectors)} 條評論\")"
   ]
  },
  {
   "cell_type": "code",
   "execution_count": 19,
   "metadata": {},
   "outputs": [
    {
     "name": "stdout",
     "output_type": "stream",
     "text": [
      "FAISS IVFFlat 索引已建立，儲存完成！\n"
     ]
    }
   ],
   "source": [
    "import faiss\n",
    "\n",
    "# 向量維度\n",
    "d = comment_vectors.shape[1]\n",
    "\n",
    "# 設定 1024 個 cluster\n",
    "num_clusters = 1024\n",
    "quantizer = faiss.IndexFlatL2(d)\n",
    "index = faiss.IndexIVFFlat(quantizer, d, num_clusters, faiss.METRIC_L2)\n",
    "\n",
    "# 訓練 FAISS（僅需執行一次）\n",
    "index.train(comment_vectors)\n",
    "index.add(comment_vectors)\n",
    "\n",
    "# 儲存 FAISS 索引\n",
    "faiss.write_index(index, \"faiss_index_ivf_new.bin\")\n",
    "\n",
    "print(f\"FAISS IVFFlat 索引已建立，儲存完成！\")"
   ]
  },
  {
   "cell_type": "code",
   "execution_count": 20,
   "metadata": {},
   "outputs": [
    {
     "name": "stdout",
     "output_type": "stream",
     "text": [
      "FAISS K-means 分群完成，已儲存 `clustered_comments_new.csv`（僅包含 location_ID, review_id, cluster）\n"
     ]
    }
   ],
   "source": [
    "import faiss\n",
    "import numpy as np\n",
    "import pandas as pd\n",
    "\n",
    "# 讀取 FAISS 索引\n",
    "index = faiss.read_index(\"faiss_index_ivf_new.bin\")\n",
    "d = index.d  # 獲取向量維度\n",
    "\n",
    "# 取得所有評論向量\n",
    "all_vectors = np.zeros((index.ntotal, d), dtype='float32')\n",
    "index.reconstruct_n(0, index.ntotal, all_vectors)\n",
    "\n",
    "# 執行 FAISS K-means 分群\n",
    "num_clusters = 10  # 來自 Elbow Method\n",
    "kmeans = faiss.Kmeans(d=d, k=num_clusters, niter=100, verbose=True)\n",
    "kmeans.train(all_vectors)\n",
    "\n",
    "# 取得每條評論的分類標籤\n",
    "_, cluster_labels = kmeans.index.search(all_vectors, 1)  # 確保這裡取得的是 K-means 結果\n",
    "\n",
    "# 讀取原始評論數據\n",
    "df = pd.read_csv(\"cleaned_comments_new.csv\", usecols=[\"location_ID\", \"review_id\"])  # 只讀取必要欄位\n",
    "\n",
    "# 加入 cluster 分群結果\n",
    "df['cluster'] = cluster_labels.flatten()\n",
    "\n",
    "# **確保不存入完整向量**\n",
    "df.to_csv(\"clustered_comments_new.csv\", index=False, mode=\"w\")\n",
    "\n",
    "print(\"FAISS K-means 分群完成，已儲存 `clustered_comments_new.csv`（僅包含 location_ID, review_id, cluster）\")\n"
   ]
  },
  {
   "cell_type": "code",
   "execution_count": 21,
   "metadata": {},
   "outputs": [
    {
     "name": "stdout",
     "output_type": "stream",
     "text": [
      "已計算每個地點的主要分類，進行人工審核！\n"
     ]
    }
   ],
   "source": [
    "import pandas as pd\n",
    "import numpy as np\n",
    "\n",
    "# 讀取完整評論的分群結果\n",
    "df = pd.read_csv(\"clustered_comments_new.csv\")  # 這是 K-means 分群的結果\n",
    "df['location_ID'] = df['location_ID'].astype(str)  # 確保 `location_ID` 是字串\n",
    "\n",
    "# 計算每個地點的主要分類 & 總評論數\n",
    "df_major_category = df.groupby(['location_ID'])['cluster'].agg([\n",
    "    ('主分類', lambda x: x.value_counts().idxmax()),  # 取得最多評論的分類\n",
    "    ('該分類比例', lambda x: x.value_counts().max() / len(x)),  # 取得該分類的佔比\n",
    "    ('總評論數', 'count')  # 該地點的總評論數\n",
    "]).reset_index()\n",
    "\n",
    "# 讀取地點資訊 JSON\n",
    "df_info = pd.read_json(\"../RAW_DATA/838_location_info.json\")\n",
    "df_info['location_id'] = df_info['location_id'].astype(str)\n",
    "\n",
    "# **修正 `gmp_location` 錯誤的欄位名稱**\n",
    "df_info = df_info.rename(columns={\"gmp_location\": \"gmap_location\"})\n",
    "\n",
    "# **確保 `location_ID` 和 `location_id` 一致**\n",
    "df_major_category = df_major_category.merge(df_info[['location_id', 'gmap_location']], \n",
    "                                            left_on='location_ID', right_on='location_id', how='left')\n",
    "\n",
    "# 刪除 `location_id`（避免重複欄位）\n",
    "df_major_category.drop(columns=['location_id'], inplace=True)\n",
    "\n",
    "# **標記「低樣本數」的地點** 這次我改成50\n",
    "df_major_category['分類品質'] = df_major_category['總評論數'].apply(lambda x: \"低樣本數\" if x < 50 else \"OK\")\n",
    "\n",
    "# 儲存結果（這是新的地點分類結果）\n",
    "df_major_category.to_csv(\"location_major_category_review_analysis_new.csv\", index=False)\n",
    "\n",
    "print(\"已計算每個地點的主要分類，進行人工審核！\")\n"
   ]
  },
  {
   "cell_type": "markdown",
   "metadata": {},
   "source": [
    "#### 看一下比例低於0.3的地點中，還有哪些分群比例較接近\n",
    "- 結論是看不出所以然"
   ]
  },
  {
   "cell_type": "code",
   "execution_count": 23,
   "metadata": {},
   "outputs": [],
   "source": [
    "import pandas as pd\n",
    "\n",
    "# 讀取已分類的結果\n",
    "df = pd.read_csv(\"clustered_comments_new.csv\")\n",
    "\n",
    "# 讀取地點的主要分類結果\n",
    "df_major = pd.read_csv(\"location_major_category_review_analysis_new.csv\")\n",
    "\n",
    "# 合併數據，確保我們可以比對每個地點的主要分類比例\n",
    "df = df.merge(df_major[['location_ID', '主分類', '該分類比例']], on=\"location_ID\", how=\"left\")\n",
    "\n",
    "# 篩選「該分類比例」低於 0.3 的地點\n",
    "df_low_confidence = df[df[\"該分類比例\"] < 0.3]\n",
    "\n",
    "# 計算這些地點的評論在不同 cluster 的分佈\n",
    "df_distribution = df_low_confidence.groupby([\"location_ID\", \"cluster\"]).size().unstack(fill_value=0)\n",
    "\n",
    "# 計算每個地點的評論總數\n",
    "df_distribution[\"總評論數\"] = df_distribution.sum(axis=1)\n",
    "\n",
    "# 計算每個群組的比例\n",
    "df_distribution = df_distribution.div(df_distribution[\"總評論數\"], axis=0)\n",
    "\n",
    "# 移除「總評論數」列（只顯示分類比例）\n",
    "df_distribution.drop(columns=[\"總評論數\"], inplace=True)\n",
    "\n",
    "# 顯示結果\n",
    "df_distribution.to_csv(\"low_confidence_location_distribution.csv\")\n"
   ]
  },
  {
   "cell_type": "markdown",
   "metadata": {},
   "source": [
    "#### 也用 `BAAI/bge-m3` 做一次看看，且日後檢索也會需要(max = 8192)"
   ]
  },
  {
   "cell_type": "code",
   "execution_count": null,
   "metadata": {},
   "outputs": [],
   "source": [
    "from FlagEmbedding import BGEM3FlagModel\n",
    "import numpy as np\n",
    "import pandas as pd\n",
    "import os\n",
    "\n",
    "# 讀取數據\n",
    "df = pd.read_csv(\"cleaned_comments_new.csv\", usecols=[\"review_id\", \"comments\"])\n",
    "\n",
    "# 載入 BGE-M3 模型\n",
    "model = BGEM3FlagModel('BAAI/bge-m3', use_fp16=True, use_cuda=True, device=0)\n",
    "\n",
    "# 轉換為向量（批次處理）\n",
    "batch_size = 512\n",
    "dense_vectors = []\n",
    "#lexical_weights, colbert_vectors = [], [] #之後可以考慮加入\n",
    "review_ids = []\n",
    "\n",
    "for i in range(0, len(df), batch_size):\n",
    "    batch_comments = df.iloc[i:i+batch_size][\"comments\"].tolist()\n",
    "    batch_review_ids = df.iloc[i:i+batch_size][\"review_id\"].tolist()\n",
    "    \n",
    "    batch_results = model.encode(batch_comments)\n",
    "\n",
    "    if isinstance(batch_results, dict):\n",
    "        dense_vectors.append(np.array(batch_results[\"dense_vecs\"]))\n",
    "        #lexical_weights.append(np.array(batch_results[\"lexical_weights\"]))\n",
    "        #colbert_vectors.append(np.array(batch_results[\"colbert_vecs\"]))\n",
    "    else:\n",
    "        print(f\"批次 {i // batch_size + 1} 轉換失敗，跳過\")\n",
    "        continue\n",
    "\n",
    "    review_ids.extend(batch_review_ids)\n",
    "\n",
    "# 合併向量\n",
    "dense_vectors = np.vstack(dense_vectors).astype('float32')\n",
    "#lexical_weights = np.vstack(lexical_weights).astype('float32')\n",
    "#colbert_vectors = np.vstack(colbert_vectors).astype('float32')\n",
    "\n",
    "# 儲存所有向量\n",
    "np.save(\"comment_vectors_bge.npy\", dense_vectors)\n",
    "#np.save(\"lexical_weights_bge.npy\", lexical_weights)\n",
    "#np.save(\"colbert_vectors_bge.npy\", colbert_vectors)\n",
    "np.save(\"review_ids_bge.npy\", np.array(review_ids))\n",
    "\n",
    "print(f\"已向量化 {len(dense_vectors)} 條評論，所有向量已儲存！\")\n"
   ]
  },
  {
   "cell_type": "code",
   "execution_count": 32,
   "metadata": {},
   "outputs": [
    {
     "name": "stdout",
     "output_type": "stream",
     "text": [
      "FAISS IVFFlat 索引已建立，儲存完成！\n"
     ]
    }
   ],
   "source": [
    "import faiss\n",
    "\n",
    "# 向量維度\n",
    "d = comment_vectors.shape[1]\n",
    "\n",
    "# 設定 1024 個 cluster\n",
    "num_clusters = 1024\n",
    "quantizer = faiss.IndexFlatL2(d)\n",
    "index = faiss.IndexIVFFlat(quantizer, d, num_clusters, faiss.METRIC_L2)\n",
    "\n",
    "# 訓練 FAISS（僅需執行一次）\n",
    "index.train(comment_vectors)\n",
    "index.add(comment_vectors)\n",
    "\n",
    "# 儲存 FAISS 索引\n",
    "faiss.write_index(index, \"faiss_index_ivf_bge.bin\")\n",
    "\n",
    "print(f\"FAISS IVFFlat 索引已建立，儲存完成！\")"
   ]
  },
  {
   "cell_type": "code",
   "execution_count": 33,
   "metadata": {},
   "outputs": [
    {
     "name": "stdout",
     "output_type": "stream",
     "text": [
      "FAISS K-means 分群完成，已儲存 `clustered_comments_bge.csv`（僅包含 location_ID, review_id, cluster）\n"
     ]
    }
   ],
   "source": [
    "import faiss\n",
    "import numpy as np\n",
    "import pandas as pd\n",
    "\n",
    "# 讀取 FAISS 索引\n",
    "index = faiss.read_index(\"faiss_index_ivf_bge.bin\")\n",
    "d = index.d  # 獲取向量維度\n",
    "\n",
    "# 取得所有評論向量\n",
    "all_vectors = np.zeros((index.ntotal, d), dtype='float32')\n",
    "index.reconstruct_n(0, index.ntotal, all_vectors)\n",
    "\n",
    "# 執行 FAISS K-means 分群\n",
    "num_clusters = 10  # 來自 Elbow Method\n",
    "kmeans = faiss.Kmeans(d=d, k=num_clusters, niter=100, verbose=True)\n",
    "kmeans.train(all_vectors)\n",
    "\n",
    "# 取得每條評論的分類標籤\n",
    "_, cluster_labels = kmeans.index.search(all_vectors, 1)  # 確保這裡取得的是 K-means 結果\n",
    "\n",
    "# 讀取原始評論數據\n",
    "df = pd.read_csv(\"cleaned_comments_new.csv\", usecols=[\"location_ID\", \"review_id\"])  # 只讀取必要欄位\n",
    "\n",
    "# 加入 cluster 分群結果\n",
    "df['cluster'] = cluster_labels.flatten()\n",
    "\n",
    "# **確保不存入完整向量**\n",
    "df.to_csv(\"clustered_comments_bge.csv\", index=False, mode=\"w\")\n",
    "\n",
    "print(\"FAISS K-means 分群完成，已儲存 `clustered_comments_bge.csv`（僅包含 location_ID, review_id, cluster）\")\n"
   ]
  },
  {
   "cell_type": "code",
   "execution_count": 34,
   "metadata": {},
   "outputs": [
    {
     "name": "stdout",
     "output_type": "stream",
     "text": [
      "已計算每個地點的主要分類，進行人工審核！\n"
     ]
    }
   ],
   "source": [
    "import pandas as pd\n",
    "import numpy as np\n",
    "\n",
    "# 讀取完整評論的分群結果\n",
    "df = pd.read_csv(\"clustered_comments_bge.csv\")  # 這是 K-means 分群的結果\n",
    "df['location_ID'] = df['location_ID'].astype(str)  # 確保 `location_ID` 是字串\n",
    "\n",
    "# 計算每個地點的主要分類 & 總評論數\n",
    "df_major_category = df.groupby(['location_ID'])['cluster'].agg([\n",
    "    ('主分類', lambda x: x.value_counts().idxmax()),  # 取得最多評論的分類\n",
    "    ('該分類比例', lambda x: x.value_counts().max() / len(x)),  # 取得該分類的佔比\n",
    "    ('總評論數', 'count')  # 該地點的總評論數\n",
    "]).reset_index()\n",
    "\n",
    "# 讀取地點資訊 JSON\n",
    "df_info = pd.read_json(\"../RAW_DATA/838_location_info.json\")\n",
    "df_info['location_id'] = df_info['location_id'].astype(str)\n",
    "\n",
    "# **修正 `gmp_location` 錯誤的欄位名稱**\n",
    "df_info = df_info.rename(columns={\"gmp_location\": \"gmap_location\"})\n",
    "\n",
    "# **確保 `location_ID` 和 `location_id` 一致**\n",
    "df_major_category = df_major_category.merge(df_info[['location_id', 'gmap_location']], \n",
    "                                            left_on='location_ID', right_on='location_id', how='left')\n",
    "\n",
    "# 刪除 `location_id`（避免重複欄位）\n",
    "df_major_category.drop(columns=['location_id'], inplace=True)\n",
    "\n",
    "# **標記「低樣本數」的地點** 這次我改成50\n",
    "df_major_category['分類品質'] = df_major_category['總評論數'].apply(lambda x: \"低樣本數\" if x < 50 else \"OK\")\n",
    "\n",
    "# 儲存結果（這是新的地點分類結果）\n",
    "df_major_category.to_csv(\"location_major_category_review_analysis_bge.csv\", index=False)\n",
    "\n",
    "print(\"已計算每個地點的主要分類，進行人工審核！\")\n"
   ]
  },
  {
   "cell_type": "markdown",
   "metadata": {},
   "source": [
    "#### 分類效果依舊不是直觀上的理想狀態，思考以下:\n",
    "- 認為分類不好，這是基於「直覺」，但我們需要找出「數據上的原因」\n",
    "- 應該理解為何模型會這樣分類，因為模型是基於 `評論內容` 的 `向量表示` 進行分群的"
   ]
  },
  {
   "cell_type": "code",
   "execution_count": null,
   "metadata": {},
   "outputs": [],
   "source": [
    "import pandas as pd\n",
    "\n",
    "# 讀取分群結果（包含 review_id）\n",
    "df_clusters = pd.read_csv(\"clustered_comments_new.csv\", usecols=[\"cluster\", \"review_id\", \"location_ID\"])\n",
    "\n",
    "# 讀取完整評論數據（包含 review_id 和 comments）\n",
    "df_comments = pd.read_csv(\"cleaned_comments_new.csv\", usecols=[\"review_id\", \"comments\"])\n",
    "\n",
    "# 讀取地點資訊\n",
    "df_info = pd.read_json(\"../RAW_DATA/838_location_info.json\")\n",
    "df_info = df_info.rename(columns={\"location_id\": \"location_ID\", \"gmp_location\": \"gmap_location\"})\n",
    "\n",
    "# 🔹 合併評論內容\n",
    "df_clusters = df_clusters.merge(df_comments, on=\"review_id\", how=\"left\")\n",
    "\n",
    "# 🔹 再合併地點名稱\n",
    "df_clusters = df_clusters.merge(df_info[['location_ID', 'gmap_location']], on='location_ID', how='left')\n",
    "\n",
    "# 🔹 依 `cluster` 分群，隨機選取 10 條評論\n",
    "for cluster_id, group in df_clusters.groupby(\"cluster\"):\n",
    "    print(f\"\\n===== 🏷️ 群組 {cluster_id} =====\")\n",
    "    \n",
    "    # 取 10 條隨機評論（如果群組內評論數少於 10，則取全部）\n",
    "    sample_reviews = group.sample(n=min(100, len(group)), random_state=42)[[\"gmap_location\", \"comments\"]].values\n",
    "    \n",
    "    # 印出評論內容與地點名稱\n",
    "    for idx, (location, comment) in enumerate(sample_reviews, 1):\n",
    "        print(f\"{idx}. 📍 {location} - {comment}\")\n",
    "    \n",
    "    print(\"=\" * 50)  # 分隔線\n"
   ]
  },
  {
   "cell_type": "code",
   "execution_count": null,
   "metadata": {},
   "outputs": [],
   "source": [
    "import pandas as pd\n",
    "import os\n",
    "\n",
    "# 讀取分群結果（包含 review_id, cluster, location_ID）\n",
    "df_clusters = pd.read_csv(\"clustered_comments_new.csv\", usecols=[\"cluster\", \"review_id\", \"location_ID\"])\n",
    "\n",
    "# 讀取完整評論數據（包含 review_id 和 comments）\n",
    "df_comments = pd.read_csv(\"cleaned_comments_new.csv\", usecols=[\"review_id\", \"comments\"])\n",
    "\n",
    "# 讀取地點資訊\n",
    "df_info = pd.read_json(\"../RAW_DATA/838_location_info.json\")\n",
    "df_info = df_info.rename(columns={\"location_id\": \"location_ID\", \"gmp_location\": \"gmap_location\"})\n",
    "\n",
    "# 🔹 合併評論內容\n",
    "df_clusters = df_clusters.merge(df_comments, on=\"review_id\", how=\"left\")\n",
    "\n",
    "# 🔹 再合併地點名稱\n",
    "df_clusters = df_clusters.merge(df_info[['location_ID', 'gmap_location']], on='location_ID', how='left')\n",
    "\n",
    "# 🔹 只保留 `cluster`、`gmap_location`（地點名稱）、`comments`（評論內容）\n",
    "df_clusters = df_clusters[[\"cluster\", \"gmap_location\", \"comments\"]]\n",
    "\n",
    "# 🔹 每個群組隨機選取 200 條評論（如果該群組少於 200，則取全部）\n",
    "df_sample = df_clusters.groupby(\"cluster\").apply(lambda x: x.sample(n=min(200, len(x)), random_state=42)).reset_index(drop=True)\n",
    "\n",
    "# 🔹 儲存成單一 CSV 檔案\n",
    "output_path = \"cluster_sampled_reviews.csv\"\n",
    "df_sample.to_csv(output_path, index=False, encoding=\"utf-8-sig\")\n",
    "\n",
    "print(f\"已輸出 {len(df_sample)} 條評論到 `{output_path}`\")\n"
   ]
  }
 ],
 "metadata": {
  "kernelspec": {
   "display_name": "base",
   "language": "python",
   "name": "python3"
  },
  "language_info": {
   "codemirror_mode": {
    "name": "ipython",
    "version": 3
   },
   "file_extension": ".py",
   "mimetype": "text/x-python",
   "name": "python",
   "nbconvert_exporter": "python",
   "pygments_lexer": "ipython3",
   "version": "3.12.3"
  }
 },
 "nbformat": 4,
 "nbformat_minor": 2
}
